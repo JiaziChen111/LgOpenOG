{
 "cells": [
  {
   "cell_type": "code",
   "execution_count": 11,
   "metadata": {
    "collapsed": true
   },
   "outputs": [],
   "source": [
    "import numpy as np\n",
    "import scipy.optimize as opt\n",
    "import matplotlib.pyplot as plt\n",
    "from matplotlib import cm\n",
    "import multiprocessing as mp\n",
    "from stitch import stitch"
   ]
  },
  {
   "cell_type": "code",
   "execution_count": 12,
   "metadata": {
    "collapsed": true
   },
   "outputs": [],
   "source": [
    "#Constructing a bump function for nvec_h and nvec_f\n",
    "def bump(left_n, right_n, center, radius, S):\n",
    "    left = left_n * np.ones(center - radius)\n",
    "    right = right_n * np.ones(S - center - radius - 1)\n",
    "    mean = (left_n + right_n) / 2\n",
    "    middle = (right_n - mean) * np.sin(np.pi * (np.arange(center - radius, center + radius + 1) - center) / (2 * radius)) + mean\n",
    "    n_vec = np.concatenate((left, middle, right))\n",
    "    return n_vec"
   ]
  },
  {
   "cell_type": "code",
   "execution_count": 13,
   "metadata": {
    "collapsed": true
   },
   "outputs": [],
   "source": [
    "# Assume Cobb-Douglas. Generalized later. \n",
    "\n",
    "# Household parameters\n",
    "life = 100\n",
    "S = 100\n",
    "working = round(9 * S / 16)\n",
    "beta_annual = .96\n",
    "beta = beta_annual ** (life / S)\n",
    "sigma = 3.0\n",
    "\n",
    "theta_h = 0.15\n",
    "theta_f = 0.33\n",
    "\n",
    "nvec_h = bump(1.0, 0.2, working, 5, S)\n",
    "nvec_f = bump(1.0, 0.2, working, 5, S)\n",
    "\n",
    "L_h = np.sum(nvec_h)\n",
    "L_f = np.sum(nvec_f)\n",
    "\n",
    "# Firm parameters\n",
    "Z_h = 1.0\n",
    "Z_f = 1.0\n",
    "\n",
    "gamma_h = .4\n",
    "gamma_f = .38\n",
    "\n",
    "delta_annual_h = .04\n",
    "delta_h = 1 - ((1 - delta_annual_h) ** (life / S))\n",
    "\n",
    "delta_annual_f = .04\n",
    "delta_f = 1 - ((1 - delta_annual_f) ** (life / S))\n",
    "\n",
    "# SS parameters\n",
    "SS_tol = 1e-13\n",
    "xi = 0.1"
   ]
  },
  {
   "cell_type": "code",
   "execution_count": 14,
   "metadata": {
    "collapsed": true
   },
   "outputs": [],
   "source": [
    "@stitch(lambda cvec, sigma: -sigma / (cvec ** (1 + sigma)), (0, None), 1e-10)\n",
    "def get_MUvec(cvec, sigma):\n",
    "    return 1 / (cvec ** sigma)\n",
    "\n",
    "@stitch(lambda x, gamma: gamma / (x ** (1 - gamma)), (0, None), 1e-10)\n",
    "def root(x, gamma):\n",
    "    return x ** gamma\n",
    "\n",
    "def get_Y(K, L, Z, gamma):\n",
    "    return Z * (K ** gamma) * (L ** (1 - gamma))\n",
    "\n",
    "def get_K(r, L, Z, P, gamma, delta):\n",
    "    return (gamma * Z * P * (L ** (1 - gamma)) / (r + delta)) ** (1 / (1 - gamma))\n",
    "\n",
    "def get_r(K, L, Z, P, gamma, delta):\n",
    "    return gamma * Z * P * root(K, (gamma - 1)) * root(L, (1 - gamma)) - delta\n",
    "\n",
    "def get_w(K, L, Z, P, gamma):\n",
    "    return (1 - gamma) * Z * P * ((K / L) ** gamma)\n",
    "\n",
    "def get_P(theta, P_1, P_2, e):\n",
    "    constant = ((1 - theta) ** (1 - theta)) * (theta ** theta)\n",
    "    return (1 / constant) * root(P_1, (1 - theta)) * root((e * P_2), theta)"
   ]
  },
  {
   "cell_type": "code",
   "execution_count": 15,
   "metadata": {
    "collapsed": true
   },
   "outputs": [],
   "source": [
    "#Get the SS values of b_vec_h and b_vec_f\n",
    "\n",
    "def get_cvec(bvec, nvec, wvec, rvec, Pvec, S, b_init=0):\n",
    "    #\n",
    "    #b_vec should be of size S - 1\n",
    "    #Other vectors should be of size S, or simply scalars if they are the same every period, as in SS.\n",
    "    #\n",
    "    #extended_b_vec should be of size S + 1, since it includes the 1st period\n",
    "    #and the S + 1th period. Borrowing (or saving) in both these periods should be zero, by assumption.\n",
    "    #\n",
    "    extended_bvec = np.zeros(S + 1)\n",
    "    if b_init:\n",
    "        extended_bvec[0] = b_init\n",
    "    extended_bvec[1:-1] = bvec\n",
    "    cvec = (nvec * wvec + (1 + rvec) * extended_bvec[:-1] - extended_bvec[1:]) / Pvec\n",
    "    return cvec\n",
    "\n",
    "def r_error(K_h, *args):\n",
    "    agg_b, L_h, L_f, Z_h, Z_f, P_h, P_f, gamma_h, gamma_f, delta_h, delta_f = args\n",
    "    r_h = get_r(K_h, L_h, Z_h, P_h, gamma_h, delta_h)\n",
    "    K_f = agg_b - K_h\n",
    "    r_f = get_r(K_f, L_f, Z_f, P_f, gamma_f, delta_f)\n",
    "    return abs(r_h - r_f)\n",
    "\n",
    "def solve_r(*args):\n",
    "    agg_b, L_h, L_f, Z_h, Z_f, P_h, P_f, gamma_h, gamma_f, delta_h, delta_f = args\n",
    "    K_h_result = opt.minimize_scalar(r_error, bracket=(0, agg_b), args=args, tol=SS_tol)\n",
    "    if not K_h_result.success:\n",
    "        print(\"Minimizer for K_h failed.\")\n",
    "    K_h = K_h_result.x\n",
    "    K_f = agg_b - K_h\n",
    "    r = get_r(K_h, L_h, Z_h, P_h, gamma_h, delta_h)\n",
    "    w_h = get_w(K_h, L_h, Z_h, P_h, gamma_h)\n",
    "    w_f = get_w(K_f, L_f, Z_f, P_f, gamma_f)\n",
    "    return K_h, K_f, r, w_h, w_f\n",
    "\n",
    "def prices_error(prices, *args):\n",
    "    P_h, P_f, e = prices\n",
    "    bvec_h, bvec_f, agg_b, nvec_h, nvec_f, L_h, L_f, Z_h, Z_f, \\\n",
    "    gamma_h, gamma_f, delta_h, delta_f, theta_h, theta_f, S = args\n",
    "    \n",
    "    K_h, K_f, r, w_h, w_f = solve_r(agg_b, L_h, L_f, Z_h, Z_f, P_h, P_f, gamma_h, gamma_f, delta_h, delta_f)\n",
    "    \n",
    "    P = get_P(theta_h, P_h, P_f, 1 / e)\n",
    "    P_star = get_P(theta_f, P_f, P_h, e)\n",
    "    \n",
    "    cvec_h = get_cvec(bvec_h, nvec_h, w_h, r, P, S)\n",
    "    cvec_f = get_cvec(bvec_f, nvec_f, w_f, r, P_star, S)\n",
    "    \n",
    "    cvec_hh = (1 - theta_h) * (P / P_h) * cvec_h\n",
    "    cvec_hf = theta_h * ((P * e) / P_f) * cvec_h\n",
    "    cvec_ff = (1 - theta_f) * (P_star / P_f) * cvec_f\n",
    "    cvec_fh = theta_f * (P_star / (e * P_h)) * cvec_f\n",
    "    \n",
    "    Y_h = get_Y(K_h, L_h, Z_h, gamma_h)\n",
    "    Y_f = get_Y(K_f, L_f, Z_f, gamma_f)\n",
    "    \n",
    "    error_h = Y_h - np.sum(cvec_hh) - np.sum(cvec_fh) - delta_h * K_h \n",
    "    error_f = Y_f - np.sum(cvec_hf) - np.sum(cvec_ff) - delta_f * K_f\n",
    "    error_e = P_h * np.sum(cvec_fh) - (P_f / e) * np.sum(cvec_hf)\n",
    "    \n",
    "    return (error_h, error_f, error_e)"
   ]
  },
  {
   "cell_type": "code",
   "execution_count": 16,
   "metadata": {
    "collapsed": true
   },
   "outputs": [],
   "source": [
    "def SS_error(concat_bvec, *args):\n",
    "    nvec_h, nvec_f, L_h, L_f, Z_h, Z_f, gamma_h, gamma_f, delta_h, delta_f, theta_h, theta_f, beta, sigma, S = args\n",
    "    \n",
    "    bvec_h = concat_bvec[:S - 1]\n",
    "    \n",
    "    bvec_f = concat_bvec[S - 1:]\n",
    "    \n",
    "    agg_b = np.sum(concat_bvec)\n",
    "    \n",
    "    P_h_guess = 1.0\n",
    "    P_f_guess = 1.0\n",
    "    e_guess = 1.0\n",
    "    \n",
    "    prices_guess = np.array([P_h_guess, P_f_guess, e_guess])\n",
    "    \n",
    "    prices_args = (bvec_h, bvec_f, agg_b, nvec_h, nvec_f, L_h, L_f, Z_h, Z_f, gamma_h, gamma_f, delta_h, delta_f, theta_h, theta_f, S)\n",
    "    \n",
    "    prices_result = opt.root(prices_error, prices_guess, args=prices_args, tol=SS_tol)\n",
    "    if not prices_result.success:\n",
    "        print(\"Root finder for prices failed.\")\n",
    "    \n",
    "    P_h, P_f, e = prices_result.x\n",
    "    \n",
    "    K_h, K_f, r, w_h, w_f = solve_r(agg_b, L_h, L_f, Z_h, Z_f, P_h, P_f, gamma_h, gamma_f, delta_h, delta_f)\n",
    "    \n",
    "    P = get_P(theta_h, P_h, P_f, 1 / e)\n",
    "    P_star = get_P(theta_f, P_f, P_h, e)\n",
    "    \n",
    "    cvec_h = get_cvec(bvec_h, nvec_h, w_h, r, P, S)\n",
    "    cvec_f = get_cvec(bvec_f, nvec_f, w_f, r, P_star, S)\n",
    "    \n",
    "    MUvec_h = get_MUvec(cvec_h, sigma)\n",
    "    MUvec_f = get_MUvec(cvec_f, sigma)\n",
    "    \n",
    "    error_h = MUvec_h[:-1] - beta * (1 + r) * MUvec_h[1:]\n",
    "    error_f = MUvec_f[:-1] - beta * (1 + r) * MUvec_f[1:]\n",
    "    \n",
    "    return np.concatenate((error_h, error_f))"
   ]
  },
  {
   "cell_type": "code",
   "execution_count": 17,
   "metadata": {
    "scrolled": false
   },
   "outputs": [],
   "source": [
    "#Extremely sensitive to initial conditions and parameters.\n",
    "concat_bvec_guess = 0.01 * np.ones(2 * S - 2) #np.concatenate((bvec_h, bvec_f))\n",
    "SS_args = (nvec_h, nvec_f, L_h, L_f, Z_h, Z_f, gamma_h, gamma_f, delta_h, delta_f, theta_h, theta_f, beta, sigma, S)\n",
    "result = opt.root(SS_error, concat_bvec_guess, args=SS_args, tol=SS_tol)\n",
    "if not result.success:\n",
    "    print(result)"
   ]
  },
  {
   "cell_type": "code",
   "execution_count": 18,
   "metadata": {},
   "outputs": [],
   "source": [
    "bvec_h = result.x[:S - 1]\n",
    "bvec_f = result.x[S - 1:]\n",
    "agg_b = np.sum(result.x)\n",
    "    \n",
    "P_h_guess = 1.0\n",
    "P_f_guess = 1.0\n",
    "e_guess = 1.0\n",
    "\n",
    "prices_guess = np.array([P_h_guess, P_f_guess, e_guess])\n",
    "\n",
    "prices_args = (bvec_h, bvec_f, agg_b, nvec_h, nvec_f, L_h, L_f, Z_h, Z_f, gamma_h, gamma_f, delta_h, delta_f, theta_h, theta_f, S)\n",
    "\n",
    "prices_result = opt.root(prices_error, prices_guess, args=prices_args, tol=SS_tol)\n",
    "if not prices_result.success:\n",
    "    print(\"Root finder for prices failed.\")\n",
    "\n",
    "P_h, P_f, e = prices_result.x\n",
    "\n",
    "K_h, K_f, r, w_h, w_f = solve_r(agg_b, L_h, L_f, Z_h, Z_f, P_h, P_f, gamma_h, gamma_f, delta_h, delta_f)\n",
    "    \n",
    "P = get_P(theta_h, P_h, P_f, 1 / e)\n",
    "P_star = get_P(theta_f, P_f, P_h, e)\n",
    "\n",
    "cvec_h = get_cvec(bvec_h, nvec_h, w_h, r, P, S)\n",
    "cvec_f = get_cvec(bvec_f, nvec_f, w_f, r, P_star, S)\n",
    "\n",
    "cvec_hh = (1 - theta_h) * (P / P_h) * cvec_h\n",
    "cvec_hf = theta_h * ((P * e) / P_f) * cvec_h\n",
    "cvec_ff = (1 - theta_f) * (P_star / P_f) * cvec_f\n",
    "cvec_fh = theta_f * (P_star / (e * P_h)) * cvec_f\n",
    "\n",
    "Y_h = get_Y(K_h, L_h, Z_h, gamma_h)\n",
    "Y_f = get_Y(K_f, L_f, Z_f, gamma_f)"
   ]
  },
  {
   "cell_type": "code",
   "execution_count": 19,
   "metadata": {},
   "outputs": [
    {
     "name": "stdout",
     "output_type": "stream",
     "text": [
      "1.02952469644 0.960630713627 1.79459896553\n",
      "1176.38087442 882.217876231 0.0325966440195 1.96475391653 1.60270243006\n",
      "1.42432742369 2.2475662171\n",
      "207.380415126 175.44958032\n"
     ]
    }
   ],
   "source": [
    "print(P_h, P_f, e)\n",
    "print(K_h, K_f, r, w_h, w_f)\n",
    "print(P, P_star)\n",
    "print(Y_h, Y_f)"
   ]
  },
  {
   "cell_type": "code",
   "execution_count": 23,
   "metadata": {},
   "outputs": [
    {
     "data": {
      "image/png": "[encoded data removed]",
      "text/plain": [
       "<matplotlib.figure.Figure at 0x11a204128>"
      ]
     },
     "metadata": {},
     "output_type": "display_data"
    }
   ],
   "source": [
    "plt.figure(figsize=(12, 9))\n",
    "plt.plot(range(S), cvec_hh, label='hh')\n",
    "plt.plot(range(S), cvec_hf, label='hf')\n",
    "plt.plot(range(S), cvec_fh, label='fh')\n",
    "plt.plot(range(S), cvec_ff, label='ff')\n",
    "plt.legend(fontsize=15)\n",
    "plt.show()"
   ]
  },
  {
   "cell_type": "code",
   "execution_count": 24,
   "metadata": {},
   "outputs": [
    {
     "data": {
      "image/png": "[encoded data removed]",
      "text/plain": [
       "<matplotlib.figure.Figure at 0x11a4394a8>"
      ]
     },
     "metadata": {},
     "output_type": "display_data"
    },
    {
     "data": {
      "image/png": "[encoded data removed]",
      "text/plain": [
       "<matplotlib.figure.Figure at 0x11a65bef0>"
      ]
     },
     "metadata": {},
     "output_type": "display_data"
    }
   ],
   "source": [
    "plt.figure(figsize=(12, 9))\n",
    "plt.plot(range(S-1), bvec_h)\n",
    "plt.plot(range(S-1), bvec_f)\n",
    "plt.show()\n",
    "\n",
    "plt.figure(figsize=(12, 9))\n",
    "plt.plot(range(S), cvec_h)\n",
    "plt.plot(range(S), cvec_f)\n",
    "plt.show()"
   ]
  },
  {
   "cell_type": "code",
   "execution_count": 25,
   "metadata": {
    "collapsed": true
   },
   "outputs": [],
   "source": [
    "#Below is an unsuccessful attempt at an iterative solution.\n",
    "#\n",
    "#def bvec_error(bvec, *args):\n",
    "#    nvec, w, r, P, beta, sigma, S = args\n",
    "#    \n",
    "#    cvec = get_cvec(bvec, nvec, w, r, P, S)\n",
    "#    \n",
    "#    MUvec = get_MUvec(cvec, sigma)\n",
    "#    \n",
    "#    error = MUvec[:-1] - beta * (1 + r) * MUvec[1:]\n",
    "#    \n",
    "#    return error"
   ]
  },
  {
   "cell_type": "code",
   "execution_count": 109,
   "metadata": {
    "collapsed": true
   },
   "outputs": [],
   "source": [
    "#def get_SS(hh_params, firm_params, ss_params, guess_vec):\n",
    "#    beta, sigma, theta_h, theta_f, nvec_h, nvec_f, L_h, L_f = hh_params\n",
    "#    Z_h, Z_f, gamma_h, gamma_f, delta_h, delta_f = firm_params\n",
    "#    SS_tol, xi = ss_params\n",
    "#    old_vec = guess_vec\n",
    "#    iteration = 0\n",
    "#    bvec_h_old = 0.01 * np.ones(S - 1)\n",
    "#    bvec_f_old = 0.01 * np.ones(S - 1)\n",
    "#    while True:\n",
    "#        P_h, P_f, e, r = old_vec\n",
    "#        \n",
    "#        # Find wages using firm's problem\n",
    "#        K_h = get_K(r, L_h, Z_h, P_h, gamma_h, delta_h)\n",
    "#        K_f = get_K(r, L_f, Z_f, P_f, gamma_f, delta_f)\n",
    "#        \n",
    "#        w_h = get_w(K_h, L_h, Z_h, P_h, gamma_h)\n",
    "#        w_f = get_w(K_f, L_f, Z_f, P_f, gamma_f)\n",
    "#        \n",
    "#        # Find implied aggregate prices \n",
    "#        P = get_P(theta_h, P_h, P_f, 1 / e)\n",
    "#        P_star = get_P(theta_f, P_f, P_h, e)\n",
    "#        \n",
    "#        # Solve for savings using Euler Equations\n",
    "#        bvec_h_args = (nvec_h, w_h, r, P, beta, sigma, S)\n",
    "#        bvec_h_result = opt.root(bvec_error, bvec_h_old, args=bvec_h_args, tol=SS_tol)\n",
    "#        if not bvec_h_result.success:\n",
    "#            print(\"Root finder for bvec_h failed on iteration {}\".format(iteration))\n",
    "#            print(bvec_h_result)\n",
    "#            break\n",
    "#        else:\n",
    "#            bvec_h = bvec_h_result.x\n",
    "#            bvec_h_old = bvec_h\n",
    "#    \n",
    "#        bvec_f_args = (nvec_f, w_f, r, P_star, beta, sigma, S)\n",
    "#        bvec_f_result = opt.root(bvec_error, bvec_f_old, args=bvec_f_args, tol=SS_tol)\n",
    "#        if not bvec_f_result.success:\n",
    "#            print(\"Root finder for bvec_f failed on iteration {}\".format(iteration))\n",
    "#            break\n",
    "#        else:\n",
    "#            bvec_f = bvec_f_result.x\n",
    "#            bvec_f_old = bvec_f\n",
    "#        \n",
    "#        # Update K_h, K_f\n",
    "#        agg_b = np.sum(bvec_h + bvec_f)\n",
    "#        r_args = (agg_b, L_h, L_f, Z_h, Z_f, P_h, P_f, gamma_h, gamma_f, delta_h, delta_f)\n",
    "#        K_h_result = opt.minimize_scalar(r_error, bracket=(0, agg_b), args=r_args, tol=SS_tol)\n",
    "#        if not K_h_result.success:\n",
    "#            print(\"Minimizer for K_h failed on iteration {}\".format(iteration))\n",
    "#            break\n",
    "#        else:\n",
    "#            K_h_new = K_h_result.x\n",
    "#            K_f_new = agg_b - K_h_new\n",
    "#        \n",
    "#        # Update r\n",
    "#        r_new = get_r(K_h_new, L_h, Z_h, P_h, gamma_h, delta_h)\n",
    "#        \n",
    "#        # Update wages\n",
    "#        w_h_new = get_w(K_h_new, L_h, Z_h, P_h, gamma_h)\n",
    "#        w_f_new = get_w(K_f_new, L_f, Z_f, P_f, gamma_f)\n",
    "#            \n",
    "#        # Update P_h, P_f\n",
    "#        Y_h = get_Y(K_h_new, L_h, Z_h, gamma_h) - delta_h * K_h_new\n",
    "#        Y_f = get_Y(K_f_new, L_f, Z_f, gamma_f) - delta_f * K_f_new\n",
    "#        \n",
    "#        prices_guess = (P_h, P_f, e)\n",
    "#        prices_args = (theta_h, theta_f, Y_h, Y_f, bvec_h, bvec_f, nvec_h, nvec_f, w_h, w_f, r, S)\n",
    "#        prices_result = opt.root(prices_error, prices_guess, args=prices_args, tol=SS_tol)\n",
    "#        if not prices_result.success:\n",
    "#            print(\"Root finder for prices failed on iteration {}\".format(iteration))\n",
    "#            break\n",
    "#        else:\n",
    "#            P_h_new, P_f_new, e_new = prices_result.x\n",
    "#        \n",
    "#        # Calculate Euler Error\n",
    "#        iteration += 1\n",
    "#        \n",
    "#        new_vec = np.array([P_h_new, P_f_new, e_new, r_new])\n",
    "#        \n",
    "#        err = np.sum(np.square(old_vec - new_vec))\n",
    "#        \n",
    "#        if err < 1e-10:\n",
    "#            return old_vec, bvec_h, bvec_f\n",
    "#        else:\n",
    "#            old_vec = xi * new_vec + (1 - xi) * old_vec\n",
    "#            print(new_vec)\n",
    "#            print(\"Iteration: \", iteration, \"   Error: \", err)"
   ]
  },
  {
   "cell_type": "code",
   "execution_count": 140,
   "metadata": {
    "scrolled": true
   },
   "outputs": [],
   "source": [
    "## Parameters\n",
    "#hh_params = (beta, sigma, theta_h, theta_f, nvec_h, nvec_f, L_h, L_f) \n",
    "#firm_params = (Z_h, Z_f, gamma_h, gamma_f, delta_h, delta_f) \n",
    "#ss_params = (SS_tol, xi)\n",
    "#\n",
    "## Initial guess for P_h, P_f, e, r\n",
    "#P_h_guess = 0.4\n",
    "#P_f_guess = 0.4\n",
    "#e_guess = 1.3\n",
    "#r_guess = 0.08\n",
    "#\n",
    "#guess_vec = np.array([P_h_guess, P_f_guess, e_guess, r_guess])\n",
    "#\n",
    "#prices, bvec_h, bvec_f = get_SS(hh_params, firm_params, ss_params, guess_vec)\n",
    "#P_h, P_f, e, r = prices"
   ]
  },
  {
   "cell_type": "code",
   "execution_count": null,
   "metadata": {},
   "outputs": [],
   "source": []
  },
  {
   "cell_type": "code",
   "execution_count": null,
   "metadata": {},
   "outputs": [],
   "source": []
  },
  {
   "cell_type": "code",
   "execution_count": null,
   "metadata": {
    "collapsed": true
   },
   "outputs": [],
   "source": []
  },
  {
   "cell_type": "code",
   "execution_count": null,
   "metadata": {},
   "outputs": [],
   "source": []
  },
  {
   "cell_type": "code",
   "execution_count": null,
   "metadata": {
    "collapsed": true
   },
   "outputs": [],
   "source": []
  },
  {
   "cell_type": "code",
   "execution_count": null,
   "metadata": {
    "collapsed": true
   },
   "outputs": [],
   "source": []
  }
 ],
 "metadata": {
  "kernelspec": {
   "display_name": "Python 3",
   "language": "python",
   "name": "python3"
  },
  "language_info": {
   "codemirror_mode": {
    "name": "ipython",
    "version": 3
   },
   "file_extension": ".py",
   "mimetype": "text/x-python",
   "name": "python",
   "nbconvert_exporter": "python",
   "pygments_lexer": "ipython3",
   "version": "3.6.1"
  }
 },
 "nbformat": 4,
 "nbformat_minor": 2
}
