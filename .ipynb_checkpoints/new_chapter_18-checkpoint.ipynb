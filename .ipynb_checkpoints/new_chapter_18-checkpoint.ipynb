{
 "cells": [
  {
   "cell_type": "code",
   "execution_count": 1,
   "metadata": {
    "collapsed": true
   },
   "outputs": [],
   "source": [
    "import numpy as np\n",
    "import scipy.optimize as opt\n",
    "import matplotlib.pyplot as plt\n",
    "from matplotlib import cm\n",
    "import multiprocessing as mp\n",
    "from stitch import stitch"
   ]
  },
  {
   "cell_type": "code",
   "execution_count": 2,
   "metadata": {
    "collapsed": true
   },
   "outputs": [],
   "source": [
    "# Assume Cobb-Douglas. Generalized later. \n",
    "\n",
    "# Household parameters\n",
    "life = 80\n",
    "S = 80\n",
    "working = round(9 * S / 16)\n",
    "beta_annual = .96\n",
    "beta = beta_annual ** (life / S)\n",
    "    \n",
    "sigma = 3.0\n",
    "\n",
    "theta_h = 0.5\n",
    "theta_f = 0.5\n",
    "\n",
    "nvec_h = np.array([1.0] * working + [0.2] * (S - working))\n",
    "nvec_f = np.array([1.0] * working + [0.2] * (S - working))\n",
    "\n",
    "L_h = np.sum(nvec_h)\n",
    "L_f = np.sum(nvec_f)\n",
    "\n",
    "# Firm parameters\n",
    "alpha_h = 0.5\n",
    "alpha_f = 0.5\n",
    "\n",
    "Z_h = 1.0\n",
    "Z_f = 1.0\n",
    "\n",
    "gamma_h = .35\n",
    "gamma_f = .35\n",
    "\n",
    "delta_annual_h = .05\n",
    "delta_h = 1 - ((1 - delta_annual_h) ** (life / S))\n",
    "\n",
    "delta_annual_f = .05\n",
    "delta_f = 1 - ((1 - delta_annual_f) ** (life / S))\n",
    "\n",
    "# SS parameters\n",
    "SS_tol = 1e-13\n",
    "xi = 0.6"
   ]
  },
  {
   "cell_type": "code",
   "execution_count": null,
   "metadata": {
    "collapsed": true
   },
   "outputs": [],
   "source": [
    "@stitch(lambda cvec, sigma: -sigma / (cvec ** (1 + sigma)), (0, None), 1e-10)\n",
    "def get_MUvec(cvec, sigma):\n",
    "    return 1 / (cvec ** sigma)\n",
    "\n",
    "@stitch(lambda x, gamma: gamma / (x ** (1 - gamma)), (0, None), 1e-10)\n",
    "def root(x, gamma):\n",
    "    return x ** gamma\n",
    "\n",
    "def get_Y(K, L, Z, gamma):\n",
    "    return Z * (K ** gamma) * (L ** (1 - gamma))\n",
    "\n",
    "def get_K(r, L, Z, P, gamma, delta):\n",
    "    return (gamma * Z * P * (L ** (1 - gamma)) / (r + delta)) ** (1 / (1 - gamma))\n",
    "\n",
    "def get_r(K, L, Z, P, gamma, delta):\n",
    "    return gamma * Z * P * root(K, (gamma - 1)) * root(L, (1 - gamma)) - delta\n",
    "\n",
    "def get_w(K, L, Z, P, gamma):\n",
    "    return (1 - gamma) * Z * P * ((K / L) ** gamma)\n",
    "\n",
    "def aggregate(theta, P_1, P_2, e):\n",
    "    constant = ((1 - theta) ** (1 - theta)) * (theta ** theta)\n",
    "    return (1 / constant) * root(P_1, (1 - theta)) * root((e * P_2), theta)"
   ]
  },
  {
   "cell_type": "code",
   "execution_count": 4,
   "metadata": {
    "collapsed": true
   },
   "outputs": [],
   "source": [
    "def get_SS(HH_params, F_params, SS_params, guess_vec):\n",
    "    S, beta, sigma, theta_h, theta_f, nvec_h, nvec_f, L_h, L_f = HH_params\n",
    "    Z_h, Z_f, gamma_h, gamma_f, delta_h, delta_f = F_params\n",
    "    SS_tol, xi = SS_params\n",
    "    P_h, P_f, r_h, r_f = guess_vec\n",
    "    \n",
    "    e = (1 + r_f) / (1 + r_h)\n",
    "    \n",
    "    P = aggregate(theta_h, P_h, P_f, 1 / e)\n",
    "    P_star = aggregate(theta_f, P_f, P_h, e)\n",
    "    \n",
    "    r = aggregate(alpha_h, r_h, r_f, 1 / e)\n",
    "    r_star = aggregate(alpha_f, r_f, r_h, e)\n",
    "    \n",
    "    K_h = get_K(r, L_h, Z, P, gamma, delta)\n",
    "    \n",
    "    "
   ]
  },
  {
   "cell_type": "code",
   "execution_count": null,
   "metadata": {
    "collapsed": true
   },
   "outputs": [],
   "source": []
  }
 ],
 "metadata": {
  "kernelspec": {
   "display_name": "Python 3",
   "language": "python",
   "name": "python3"
  },
  "language_info": {
   "codemirror_mode": {
    "name": "ipython",
    "version": 3
   },
   "file_extension": ".py",
   "mimetype": "text/x-python",
   "name": "python",
   "nbconvert_exporter": "python",
   "pygments_lexer": "ipython3",
   "version": "3.6.1"
  }
 },
 "nbformat": 4,
 "nbformat_minor": 2
}
