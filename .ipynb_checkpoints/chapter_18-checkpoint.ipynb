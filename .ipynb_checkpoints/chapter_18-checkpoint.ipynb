{
 "cells": [
  {
   "cell_type": "code",
   "execution_count": 56,
   "metadata": {
    "collapsed": true
   },
   "outputs": [],
   "source": [
    "import numpy as np\n",
    "import scipy.optimize as opt\n",
    "import matplotlib.pyplot as plt\n",
    "from matplotlib import cm\n",
    "import multiprocessing as mp\n",
    "from stitch import stitch"
   ]
  },
  {
   "cell_type": "code",
   "execution_count": 57,
   "metadata": {
    "collapsed": true
   },
   "outputs": [],
   "source": [
    "#Constructing a bump function for nvec_h and nvec_f\n",
    "def bump(left_n, right_n, center, radius, S):\n",
    "    left = left_n * np.ones(center - radius)\n",
    "    right = right_n * np.ones(S - center - radius - 1)\n",
    "    mean = (left_n + right_n) / 2\n",
    "    middle = (right_n - mean) * np.sin(np.pi * (np.arange(center - radius, center + radius + 1) - center) / (2 * radius)) + mean\n",
    "    n_vec = np.concatenate((left, middle, right))\n",
    "    return n_vec"
   ]
  },
  {
   "cell_type": "code",
   "execution_count": 58,
   "metadata": {
    "collapsed": true
   },
   "outputs": [],
   "source": [
    "# Assume Cobb-Douglas. Generalized later. \n",
    "\n",
    "# Household parameters\n",
    "life = 100\n",
    "S = 100\n",
    "working = round(9 * S / 16)\n",
    "beta_annual = .96\n",
    "beta = beta_annual ** (life / S)\n",
    "sigma = 3.0\n",
    "\n",
    "theta_h = 0.25\n",
    "theta_f = 0.35\n",
    "\n",
    "nvec_h = bump(1.0, 0.2, working, 5, S)\n",
    "nvec_f = bump(1.0, 0.2, working, 5, S)\n",
    "\n",
    "L_h = np.sum(nvec_h)\n",
    "L_f = np.sum(nvec_f)\n",
    "\n",
    "# Firm parameters\n",
    "Z_h = 1.4\n",
    "Z_f = 1.0\n",
    "\n",
    "gamma_h = .35\n",
    "gamma_f = .45\n",
    "\n",
    "delta_annual_h = .05\n",
    "delta_h = 1 - ((1 - delta_annual_h) ** (life / S))\n",
    "\n",
    "delta_annual_f = .07\n",
    "delta_f = 1 - ((1 - delta_annual_f) ** (life / S))\n",
    "\n",
    "# SS parameters\n",
    "SS_tol = 1e-13\n",
    "xi = 0.6"
   ]
  },
  {
   "cell_type": "code",
   "execution_count": 59,
   "metadata": {},
   "outputs": [],
   "source": [
    "@stitch(lambda cvec, sigma: -sigma / (cvec ** (1 + sigma)), (0, None), 1e-5)\n",
    "def get_MUvec(cvec, sigma):\n",
    "    return 1 / (cvec ** sigma)\n",
    "\n",
    "@stitch(lambda x, gamma: gamma / (x ** (1 - gamma)), (0, None), 1e-5)\n",
    "def root(x, gamma):\n",
    "    return x ** gamma\n",
    "\n",
    "def get_K(r, L, Z, P, gamma, delta):\n",
    "    return (gamma * Z * P * (L ** (1 - gamma)) / (r + delta)) ** (1 / (1 - gamma))\n",
    "\n",
    "def get_r(K, L, Z, P, gamma, delta):\n",
    "    return gamma * Z * P * root(L, (1 - gamma)) * root(K, (gamma - 1)) - delta\n",
    "\n",
    "def get_w(K, L, Z, P, gamma):\n",
    "    return (1 - gamma) * Z * P * ((K / L) ** gamma)\n",
    "\n",
    "def get_P(theta, P_1, P_2, e):\n",
    "    constant = ((1 - theta) ** (1 - theta)) * (theta ** theta)\n",
    "    return (1 / constant) * (P_1 ** (1 - theta)) * ((e * P_2) ** theta)\n",
    "\n",
    "def get_P_country(theta, P, agg_c, c):\n",
    "    return P * (1 - theta) * (agg_c / c)"
   ]
  },
  {
   "cell_type": "code",
   "execution_count": 60,
   "metadata": {
    "collapsed": true
   },
   "outputs": [],
   "source": [
    "#Get the SS values of b_vec_h and b_vec_f\n",
    "\n",
    "def get_cvec(bvec, nvec, wvec, rvec, Pvec, S, b_init=0):\n",
    "    #\n",
    "    #b_vec should be of size S - 1\n",
    "    #Other vectors should be of size S, or simply scalars if they are the same every period, as in SS.\n",
    "    #\n",
    "    #extended_b_vec should be of size S + 1, since it includes the 1st period\n",
    "    #and the S + 1th period. Borrowing (or saving) in both these periods should be zero, by assumption.\n",
    "    #\n",
    "    extended_bvec = np.zeros(S + 1)\n",
    "    if b_init:\n",
    "        extended_bvec[0] = b_init\n",
    "    extended_bvec[1:-1] = bvec\n",
    "    cvec = (nvec * wvec + (1 + rvec) * extended_bvec[:-1] - extended_bvec[1:]) / Pvec\n",
    "    return cvec\n",
    "\n",
    "def bvec_error(bvec, *args):\n",
    "    nvec, w, r, p, beta, sigma, S = args\n",
    "    \n",
    "    cvec = get_cvec(bvec, nvec, w, r, p, S)\n",
    "    \n",
    "    MUvec = get_MUvec(cvec, sigma)\n",
    "    \n",
    "    error = MUvec[:-1] - beta * (1 + r) * MUvec[1:]\n",
    "    \n",
    "    return error\n",
    "\n",
    "def r_error(K_h, *args):\n",
    "    agg_b, L_h, L_f, Z_h, Z_f, P_h, P_f, gamma_h, gamma_f, delta_h, delta_f = args\n",
    "    r_h = get_r(K_h, L_h, Z_h, P_h, gamma_h, delta_h)\n",
    "    K_f = agg_b - K_h\n",
    "    r_f = get_r(K_f, L_f, Z_f, P_f, gamma_f, delta_f)\n",
    "    return abs(r_h - r_f)"
   ]
  },
  {
   "cell_type": "code",
   "execution_count": 66,
   "metadata": {},
   "outputs": [],
   "source": [
    "def get_SS(hh_params, firm_params, ss_params, guess_vec):\n",
    "    beta, sigma, theta_h, theta_f, nvec_h, nvec_f, L_h, L_f = hh_params\n",
    "    Z_h, Z_f, gamma_h, gamma_f, delta_h, delta_f = firm_params\n",
    "    SS_tol, xi = ss_params\n",
    "    old_vec = guess_vec\n",
    "    iteration = 0\n",
    "    #while True:\n",
    "    P_h, P_f, e, r = old_vec\n",
    "    \n",
    "    # Find wages using firm's problem\n",
    "    K_h = get_K(r, L_h, Z_h, P_h, gamma_h, delta_h)\n",
    "    K_f = get_K(r, L_f, Z_f, P_f, gamma_f, delta_f)\n",
    "    \n",
    "    w_h = get_w(K_h, L_h, Z_h, P_h, gamma_h)\n",
    "    w_f = get_w(K_f, L_f, Z_f, P_f, gamma_f)\n",
    "    \n",
    "    # Find implied aggregate prices \n",
    "    P = get_P(theta_h, P_h, P_f, 1 / e)\n",
    "    P_star = get_P(theta_f, P_f, P_h, e)\n",
    "    \n",
    "    # Solve for savings using Euler Equations\n",
    "    bvec_guess = 0.1 * np.ones(S - 1)\n",
    "    \n",
    "    bvec_h_args = (nvec_h, w_h, r, P, beta, sigma, S)\n",
    "    bvec_h_result = opt.root(bvec_error, bvec_guess, args=bvec_h_args, tol=SS_tol)\n",
    "    if not bvec_h_result.success:\n",
    "        print(\"Root finder for bvec_h failed on iteration {}\".format(iteration))\n",
    "        #break\n",
    "    else:\n",
    "        bvec_h = bvec_h_result.x\n",
    "    \n",
    "    bvec_f_args = (nvec_f, w_f, r, P_star, beta, sigma, S)\n",
    "    bvec_f_result = opt.root(bvec_error, bvec_guess, args=bvec_f_args, tol=SS_tol)\n",
    "    if not bvec_f_result.success:\n",
    "        print(\"Root finder for bvec_f failed on iteration {}\".format(iteration))\n",
    "        #break\n",
    "    else:\n",
    "        bvec_f = bvec_f_result.x\n",
    "    \n",
    "    # Solve for consumption\n",
    "    cvec_h = get_cvec(bvec_h, nvec_h, w_h, r, P, S)\n",
    "    cvec_f = get_cvec(bvec_f, nvec_f, w_f, r, P_star, S)\n",
    "    \n",
    "    c_hh = (1 - theta_h) * (P / P_h) * cvec_h\n",
    "    c_hf = theta_h * ((P * e) / P_f) * cvec_h\n",
    "    \n",
    "    c_ff = (1 - theta_f) * (P_star / P_f) * cvec_f\n",
    "    c_fh = theta_f * (P_star / (e * P_h)) * cvec_f\n",
    "    \n",
    "    # Update K_h, K_f\n",
    "    agg_b = np.sum(bvec_h + bvec_f)\n",
    "    r_args = (agg_b, L_h, L_f, Z_h, Z_f, P_h, P_f, gamma_h, gamma_f, delta_h, delta_f)\n",
    "    K_h_result = opt.minimize_scalar(r_error, bracket=(0, agg_b), args=r_args, tol=SS_tol)\n",
    "    if not K_h_result.success:\n",
    "        print(\"Minimizer for K_h failed on iteration {}\".format(iteration))\n",
    "        #break\n",
    "    else:\n",
    "        K_h = K_h_result.x\n",
    "        K_f = agg_b - K_h\n",
    "    \n",
    "    # Update r\n",
    "    r_new = get_r(K_h, L_h, Z_h, P_h, gamma_h, delta_h)\n",
    "    \n",
    "    return r_new, bvec_h, bvec_f\n",
    "\n",
    "#Everything works smoothing until price updating.\n",
    "        \n",
    "#        # Update P_h, P_f\n",
    "#        # Prices are not updating for some reason!\n",
    "#        P_h_new = np.mean(get_P_country(theta_h, P, c_h, c_hh)) \n",
    "#        P_f_new = np.mean(get_P_country(theta_f, P_star, c_f, c_ff))\n",
    "#        \n",
    "#        # Update exchange rate, e\n",
    "#        e_new = (P_f_new*np.sum(c_hf))/(P_h_new*np.sum(c_fh))\n",
    "#        \n",
    "#        # Calculate Euler Error\n",
    "#        iteration += 1\n",
    "#        \n",
    "#        new_vec = np.array([P_h_new, P_f_new, e_new, r_new])\n",
    "#        print(new_vec)\n",
    "#        \n",
    "#        err = np.sum(np.square(old_vec-new_vec))\n",
    "#        old_vec = xi*new_vec+(1-xi)*old_vec\n",
    "#        \n",
    "#        print(\"Iteration: \", iteration, \"   Error: \", err)\n",
    "#    return old_vec, b_h, b_f"
   ]
  },
  {
   "cell_type": "code",
   "execution_count": 67,
   "metadata": {},
   "outputs": [
    {
     "name": "stdout",
     "output_type": "stream",
     "text": [
      "r_new = 0.0015307374511956684\n"
     ]
    }
   ],
   "source": [
    "# Parameters\n",
    "hh_params = (beta, sigma, theta_h, theta_f, nvec_h, nvec_f, L_h, L_f) \n",
    "firm_params = (Z_h, Z_f, gamma_h, gamma_f, delta_h, delta_f) \n",
    "ss_params = (SS_tol, xi)\n",
    "\n",
    "# Initial guess for P_h, P_f, e, r\n",
    "P_h_guess = 0.9\n",
    "P_f_guess = 0.8\n",
    "e_guess = 1.2\n",
    "r_guess = 0.08\n",
    "\n",
    "guess_vec = np.array([P_h_guess, P_f_guess, e_guess, r_guess])\n",
    "\n",
    "r_new, bvec_h, bvec_f = get_SS(hh_params, firm_params, ss_params, guess_vec)\n",
    "print('r_new = {}'.format(r_new))"
   ]
  },
  {
   "cell_type": "code",
   "execution_count": 68,
   "metadata": {},
   "outputs": [
    {
     "data": {
      "image/png": "[encoded data removed]",
      "text/plain": [
       "<matplotlib.figure.Figure at 0x114d0b278>"
      ]
     },
     "metadata": {},
     "output_type": "display_data"
    }
   ],
   "source": [
    "plt.figure(figsize=(12, 9))\n",
    "plt.plot(range(len(bvec_h)), bvec_h)\n",
    "plt.plot(range(len(bvec_f)), bvec_f)\n",
    "plt.show()"
   ]
  },
  {
   "cell_type": "code",
   "execution_count": null,
   "metadata": {
    "collapsed": true
   },
   "outputs": [],
   "source": []
  },
  {
   "cell_type": "code",
   "execution_count": null,
   "metadata": {
    "collapsed": true
   },
   "outputs": [],
   "source": []
  },
  {
   "cell_type": "code",
   "execution_count": null,
   "metadata": {
    "collapsed": true
   },
   "outputs": [],
   "source": []
  }
 ],
 "metadata": {
  "kernelspec": {
   "display_name": "Python 3",
   "language": "python",
   "name": "python3"
  },
  "language_info": {
   "codemirror_mode": {
    "name": "ipython",
    "version": 3
   },
   "file_extension": ".py",
   "mimetype": "text/x-python",
   "name": "python",
   "nbconvert_exporter": "python",
   "pygments_lexer": "ipython3",
   "version": "3.6.1"
  }
 },
 "nbformat": 4,
 "nbformat_minor": 2
}
