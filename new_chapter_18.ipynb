{
 "cells": [
  {
   "cell_type": "code",
   "execution_count": 11,
   "metadata": {
    "collapsed": true
   },
   "outputs": [],
   "source": [
    "import numpy as np\n",
    "import scipy.optimize as opt\n",
    "import matplotlib.pyplot as plt\n",
    "from matplotlib import cm\n",
    "import multiprocessing as mp\n",
    "from stitch import stitch"
   ]
  },
  {
   "cell_type": "code",
   "execution_count": 12,
   "metadata": {
    "collapsed": true
   },
   "outputs": [],
   "source": [
    "# Assume Cobb-Douglas for now. Generalized later.\n",
    "\n",
    "# Household parameters\n",
    "life = 80\n",
    "S = 80\n",
    "working = round(9 * S / 16)\n",
    "beta_annual = .96\n",
    "beta = beta_annual ** (life / S)\n",
    "    \n",
    "sigma = 3.0\n",
    "\n",
    "theta_h = 0.3\n",
    "theta_f = 0.45\n",
    "\n",
    "nvec_h = np.array([1.0] * working + [0.2] * (S - working))\n",
    "nvec_f = np.array([1.0] * working + [0.2] * (S - working))\n",
    "\n",
    "L_h = np.sum(nvec_h)\n",
    "L_f = np.sum(nvec_f)\n",
    "\n",
    "# Firm parameters\n",
    "alpha_h = 0.4\n",
    "alpha_f = 0.35\n",
    "\n",
    "Z_h = 1.1\n",
    "Z_f = 1.0\n",
    "\n",
    "gamma_h = 0.4\n",
    "gamma_f = 0.35\n",
    "\n",
    "delta_annual_h = 0.07\n",
    "delta_h = 1 - ((1 - delta_annual_h) ** (life / S))\n",
    "\n",
    "delta_annual_f = 0.05\n",
    "delta_f = 1 - ((1 - delta_annual_f) ** (life / S))\n",
    "\n",
    "# SS parameters\n",
    "SS_tol = 1e-13\n",
    "xi = 0.6"
   ]
  },
  {
   "cell_type": "code",
   "execution_count": 13,
   "metadata": {
    "collapsed": false
   },
   "outputs": [],
   "source": [
    "@stitch(lambda cvec, sigma: -sigma / (cvec ** (1 + sigma)), (0, None), 1e-10)\n",
    "def get_MUvec(cvec, sigma):\n",
    "    return 1 / (cvec ** sigma)\n",
    "\n",
    "@stitch(lambda x, gamma: gamma / (x ** (1 - gamma)), (0, None), 1e-10)\n",
    "def root(x, gamma):\n",
    "    return x ** gamma\n",
    "\n",
    "def aggregate(P_1, P_2, e, theta, flag=True):\n",
    "    if flag:\n",
    "        constant = ((1 - theta) ** (1 - theta)) * (theta ** theta)\n",
    "    else:\n",
    "        constant = 1\n",
    "    return (1 / constant) * root(P_1, (1 - theta)) * root((e * P_2), theta)\n",
    "\n",
    "def get_K(P, r, L, Z, gamma, delta):\n",
    "    return root(gamma * Z * P * root(L, (1 - gamma)) / (r + delta), 1 / (1 - gamma))\n",
    "\n",
    "def get_w(P, K, L, Z, gamma):\n",
    "    return (1 - gamma) * Z * P * root(K / L, gamma)\n",
    "\n",
    "def get_r(P, K, L, Z, gamma, delta):\n",
    "    return gamma * Z * P * root(L / K, (1 - gamma)) - delta\n",
    "    \n",
    "def get_Y(Z, K, L, gamma):\n",
    "    return Z * root(K, gamma) * root(L, (1 - gamma))"
   ]
  },
  {
   "cell_type": "code",
   "execution_count": 14,
   "metadata": {
    "collapsed": true
   },
   "outputs": [],
   "source": [
    "def get_cvec(Pvec, rvec, wvec, bvec, S, nvec, b_init=0):\n",
    "    extended_bvec = np.zeros(S + 1)\n",
    "    if b_init:\n",
    "        extended_bvec[0] = b_init\n",
    "    extended_bvec[1:-1] = bvec\n",
    "    cvec = (nvec * wvec + (1 + rvec) * extended_bvec[:-1] - extended_bvec[1:]) / Pvec\n",
    "    return cvec\n",
    "\n",
    "def bvec_error(bvec, *args):\n",
    "    P, r, w, S, beta, sigma, nvec = args\n",
    "    \n",
    "    cvec = get_cvec(P, r, w, bvec, S, nvec)\n",
    "    \n",
    "    MUvec = get_MUvec(cvec, sigma)\n",
    "    \n",
    "    error = MUvec[:-1] - beta * (1 + r) * MUvec[1:]\n",
    "    \n",
    "    return error"
   ]
  },
  {
   "cell_type": "code",
   "execution_count": 15,
   "metadata": {
    "collapsed": true
   },
   "outputs": [],
   "source": [
    "def prices_error(prices, *args):\n",
    "    P_h, P_f, r_h, r_f = prices\n",
    "    cvec_h, cvec_f, bvec_h, bvec_f, alpha_h, alpha_f, theta_h, theta_f, gamma_h, gamma_f, delta_h, delta_f, L_h, L_f, Z_h, Z_f = args\n",
    "    \n",
    "    b_h_agg = np.sum(bvec_h) \n",
    "    b_f_agg = np.sum(bvec_f)\n",
    "    \n",
    "    e = (1 + r_f) / (1 + r_h)\n",
    "    \n",
    "    P = aggregate(P_h, P_f, 1 / e, theta_h)\n",
    "    P_star = aggregate(P_f, P_h, e, theta_f)\n",
    "    \n",
    "    c_hh = (1-theta_h)*(P/P_h)*cvec_h\n",
    "    c_hf = theta_h*(e*P/P_f)*cvec_h\n",
    "    c_ff = (1-theta_f)*(P/P_f)*cvec_f\n",
    "    c_fh = theta_f*(P_star/(e*P_h))*cvec_f\n",
    "    \n",
    "    A_h = (1-alpha_h)/alpha_h\n",
    "    A_f = (1-alpha_f)/alpha_f\n",
    "    \n",
    "    K_fh = (b_f_agg-b_h_agg)/(A_h*A_f-1)\n",
    "    K_hf = -K_fh\n",
    "    K_ff = b_f_agg-K_hf\n",
    "    K_hh = b_h_agg-K_fh\n",
    " \n",
    "    K_h = aggregate(K_hh, K_hf, 1, alpha_h, True)\n",
    "    K_f = aggregate(K_ff, K_fh, 1, alpha_f, True)\n",
    "    Y_h = get_Y(Z_h, K_h, L_h, gamma_h)\n",
    "    Y_f = get_Y(Z_h, K_h, L_h, gamma_h)\n",
    "     \n",
    "    r = aggregate(r_h, r_f, 1 / e, alpha_h) \n",
    "    r_star = aggregate(r_f, r_h, e, alpha_f) \n",
    "    \n",
    "    # Error Equations\n",
    "    error = np.empty(4)\n",
    "    \n",
    "    # Resource Constraints\n",
    "    error[0] = Y_h - (np.sum(c_hh) + np.sum(c_fh)) - delta_h * K_hh - delta_f * K_fh\n",
    "    error[1] = Y_f - (np.sum(c_hh) + np.sum(c_fh)) - delta_h * K_hh - delta_f * K_fh\n",
    "    \n",
    "    # Interest Rate Equations\n",
    "    error[2] = r - get_r(P_h, K_h, L_h, Z_h, gamma_h, delta_h) \n",
    "    error[3] = r_star - get_r(P_f, K_f, L_f, Z_f, gamma_f, delta_f) \n",
    "    \n",
    "    return error"
   ]
  },
  {
   "cell_type": "code",
   "execution_count": 16,
   "metadata": {
    "collapsed": true
   },
   "outputs": [],
   "source": [
    "def get_SS(HH_params, F_params, SS_params, guess):\n",
    "    S, beta, sigma, theta_h, theta_f, nvec_h, nvec_f, L_h, L_f = HH_params\n",
    "    Z_h, Z_f, gamma_h, gamma_f, delta_h, delta_f = F_params\n",
    "    SS_tol, xi = SS_params\n",
    "    P_h, P_f, r_h, r_f = guess\n",
    "    iteration = 1\n",
    "    \n",
    "    e = (1 + r_f) / (1 + r_h)\n",
    "    \n",
    "    P = aggregate(P_h, P_f, 1 / e, theta_h)\n",
    "    P_star = aggregate(P_f, P_h, e, theta_f)\n",
    "    \n",
    "    r = aggregate(r_h, r_f, 1 / e, alpha_h)\n",
    "    r_star = aggregate(r_f, r_h, e, alpha_f)\n",
    "    \n",
    "    K_h = get_K(P_h, r, L_h, Z_h, gamma_h, delta_h)\n",
    "    w_h = get_w(P_h, K_h, L_h, Z_h, gamma_h)\n",
    "    \n",
    "    K_f = get_K(P_f, r_star, L_f, Z_f, gamma_f, delta_f)\n",
    "    w_f = get_w(P_f, K_f, L_f, Z_f, gamma_f)\n",
    "    \n",
    "    # Solve for savings using Euler Equations\n",
    "    bvec_h_guess = 0.01 * np.ones(S - 1)\n",
    "    bvec_h_args = (P, r_h, w_h, S, beta, sigma, nvec_h)\n",
    "    bvec_h_result = opt.root(bvec_error, bvec_h_guess, args=bvec_h_args, tol=SS_tol)\n",
    "    if not bvec_h_result.success:\n",
    "        print(\"Root finder for bvec_h failed on iteration {}\".format(iteration))\n",
    "        print(bvec_h_result)\n",
    "    else:\n",
    "        bvec_h = bvec_h_result.x\n",
    "    \n",
    "    bvec_f_guess = 0.01 * np.ones(S - 1)\n",
    "    bvec_f_args = (P_star, r_f, w_f, S, beta, sigma, nvec_f)\n",
    "    bvec_f_result = opt.root(bvec_error, bvec_f_guess, args=bvec_f_args, tol=SS_tol)\n",
    "    if not bvec_f_result.success:\n",
    "        print(\"Root finder for bvec_f failed on iteration {}\".format(iteration))\n",
    "        print(bvec_f_result)\n",
    "    else:\n",
    "        bvec_f = bvec_f_result.x\n",
    "    \n",
    "    cvec_h = get_cvec(P, r_h, w_h, bvec_h, S, nvec_h)\n",
    "    cvec_f = get_cvec(P, r_f, w_f, bvec_f, S, nvec_f)\n",
    "    \n",
    "    plot=False\n",
    "    if plot:\n",
    "        plt.figure(figsize=(12, 9))\n",
    "        plt.plot(bvec_h)\n",
    "        plt.plot(bvec_f)\n",
    "        plt.show()\n",
    "    \n",
    "    # Update the guesses for P_h, P_f, r_h, r_f\n",
    "    prices_args = (cvec_h, cvec_f, bvec_h, bvec_f, alpha_h, alpha_f, theta_h, theta_f, gamma_h, gamma_f, delta_h, delta_f, L_h, L_f, Z_h, Z_f)\n",
    "    prices_result = opt.root(prices_error, guess, args=prices_args, tol=SS_tol)\n",
    "    if not prices_result.success:\n",
    "        print(\"Root finder for prices failed on iteration {}\".format(iteration))\n",
    "        print(prices_result)\n",
    "    else:\n",
    "        prices = prices_result.x\n",
    "    print(prices)"
   ]
  },
  {
   "cell_type": "code",
   "execution_count": 17,
   "metadata": {
    "collapsed": false
   },
   "outputs": [
    {
     "name": "stdout",
     "output_type": "stream",
     "text": [
      "Root finder for prices failed on iteration 1\n",
      "    fjac: array([[ -7.07105852e-01,  -7.07105852e-01,   1.62093146e-03,\n",
      "          0.00000000e+00],\n",
      "       [ -1.14617162e-03,  -1.14617162e-03,  -9.99998686e-01,\n",
      "          3.34489128e-05],\n",
      "       [ -3.83386547e-08,  -3.83377348e-08,  -3.34488689e-05,\n",
      "         -9.99999999e-01],\n",
      "       [  7.07106781e-01,  -7.07106781e-01,   4.92299344e-14,\n",
      "         -6.50263501e-13]])\n",
      "     fun: array([ 0.00070311,  0.00070311, -0.01255474,  0.05050814])\n",
      " message: 'The iteration is not making good progress, as measured by the \\n  improvement from the last five Jacobian evaluations.'\n",
      "    nfev: 211\n",
      "     qtf: array([ -2.94026442e-03,   1.28202998e-02,  -5.04825760e-02,\n",
      "        -3.34593464e-14])\n",
      "       r: array([ -6.71949663e+01,   9.26948585e+01,   5.10283146e+01,\n",
      "        -5.31311062e+01,   1.50252209e-01,   3.30308100e-02,\n",
      "        -9.89451314e+01,  -3.39625105e-03,  -2.03179267e+01,\n",
      "        -8.34887715e-12])\n",
      "  status: 4\n",
      " success: False\n",
      "       x: array([  7.95481378e-01,   5.73871032e-01,   5.23343981e-02,\n",
      "         1.57650417e-05])\n"
     ]
    },
    {
     "ename": "UnboundLocalError",
     "evalue": "local variable 'prices' referenced before assignment",
     "output_type": "error",
     "traceback": [
      "\u001b[0;31m---------------------------------------------------------------------------\u001b[0m",
      "\u001b[0;31mUnboundLocalError\u001b[0m                         Traceback (most recent call last)",
      "\u001b[0;32m<ipython-input-17-03955d29306d>\u001b[0m in \u001b[0;36m<module>\u001b[0;34m()\u001b[0m\n\u001b[1;32m      3\u001b[0m \u001b[0mSS_params\u001b[0m \u001b[0;34m=\u001b[0m \u001b[0;34m(\u001b[0m\u001b[0mSS_tol\u001b[0m\u001b[0;34m,\u001b[0m \u001b[0mxi\u001b[0m\u001b[0;34m)\u001b[0m\u001b[0;34m\u001b[0m\u001b[0m\n\u001b[1;32m      4\u001b[0m \u001b[0mguess\u001b[0m \u001b[0;34m=\u001b[0m \u001b[0;34m(\u001b[0m\u001b[0;36m1\u001b[0m\u001b[0;34m,\u001b[0m \u001b[0;36m1\u001b[0m\u001b[0;34m,\u001b[0m \u001b[0;36m0.05\u001b[0m\u001b[0;34m,\u001b[0m \u001b[0;36m0.05\u001b[0m\u001b[0;34m)\u001b[0m\u001b[0;34m\u001b[0m\u001b[0m\n\u001b[0;32m----> 5\u001b[0;31m \u001b[0mget_SS\u001b[0m\u001b[0;34m(\u001b[0m\u001b[0mHH_params\u001b[0m\u001b[0;34m,\u001b[0m \u001b[0mF_params\u001b[0m\u001b[0;34m,\u001b[0m \u001b[0mSS_params\u001b[0m\u001b[0;34m,\u001b[0m \u001b[0mguess\u001b[0m\u001b[0;34m)\u001b[0m\u001b[0;34m\u001b[0m\u001b[0m\n\u001b[0m",
      "\u001b[0;32m<ipython-input-16-5803763dc88e>\u001b[0m in \u001b[0;36mget_SS\u001b[0;34m(HH_params, F_params, SS_params, guess)\u001b[0m\n\u001b[1;32m     57\u001b[0m     \u001b[0;32melse\u001b[0m\u001b[0;34m:\u001b[0m\u001b[0;34m\u001b[0m\u001b[0m\n\u001b[1;32m     58\u001b[0m         \u001b[0mprices\u001b[0m \u001b[0;34m=\u001b[0m \u001b[0mprices_result\u001b[0m\u001b[0;34m.\u001b[0m\u001b[0mx\u001b[0m\u001b[0;34m\u001b[0m\u001b[0m\n\u001b[0;32m---> 59\u001b[0;31m     \u001b[0mprint\u001b[0m\u001b[0;34m(\u001b[0m\u001b[0mprices\u001b[0m\u001b[0;34m)\u001b[0m\u001b[0;34m\u001b[0m\u001b[0m\n\u001b[0m",
      "\u001b[0;31mUnboundLocalError\u001b[0m: local variable 'prices' referenced before assignment"
     ]
    }
   ],
   "source": [
    "HH_params = (S, beta, sigma, theta_h, theta_f, nvec_h, nvec_f, L_h, L_f)\n",
    "F_params = (Z_h, Z_f, gamma_h, gamma_f, delta_h, delta_f)\n",
    "SS_params = (SS_tol, xi)\n",
    "guess = (1, 1, 0.05, 0.05)\n",
    "get_SS(HH_params, F_params, SS_params, guess)"
   ]
  },
  {
   "cell_type": "code",
   "execution_count": null,
   "metadata": {
    "collapsed": true
   },
   "outputs": [],
   "source": []
  },
  {
   "cell_type": "code",
   "execution_count": null,
   "metadata": {
    "collapsed": true
   },
   "outputs": [],
   "source": []
  },
  {
   "cell_type": "code",
   "execution_count": null,
   "metadata": {
    "collapsed": true
   },
   "outputs": [],
   "source": []
  },
  {
   "cell_type": "code",
   "execution_count": null,
   "metadata": {
    "collapsed": true
   },
   "outputs": [],
   "source": []
  },
  {
   "cell_type": "code",
   "execution_count": null,
   "metadata": {
    "collapsed": true
   },
   "outputs": [],
   "source": []
  },
  {
   "cell_type": "code",
   "execution_count": null,
   "metadata": {
    "collapsed": true
   },
   "outputs": [],
   "source": []
  }
 ],
 "metadata": {
  "kernelspec": {
   "display_name": "Python 3",
   "language": "python",
   "name": "python3"
  },
  "language_info": {
   "codemirror_mode": {
    "name": "ipython",
    "version": 3
   },
   "file_extension": ".py",
   "mimetype": "text/x-python",
   "name": "python",
   "nbconvert_exporter": "python",
   "pygments_lexer": "ipython3",
   "version": "3.6.0"
  }
 },
 "nbformat": 4,
 "nbformat_minor": 2
}
