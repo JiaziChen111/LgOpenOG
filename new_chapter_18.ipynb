{
 "cells": [
  {
   "cell_type": "code",
   "execution_count": 23,
   "metadata": {
    "collapsed": true
   },
   "outputs": [],
   "source": [
    "import numpy as np\n",
    "import scipy.optimize as opt\n",
    "import matplotlib.pyplot as plt\n",
    "from matplotlib import cm\n",
    "import multiprocessing as mp\n",
    "from stitch import stitch"
   ]
  },
  {
   "cell_type": "code",
   "execution_count": 24,
   "metadata": {
    "collapsed": true
   },
   "outputs": [],
   "source": [
    "# Assume Cobb-Douglas. Generalized later. \n",
    "\n",
    "# Household parameters\n",
    "life = 80\n",
    "S = 80\n",
    "working = round(9 * S / 16)\n",
    "beta_annual = .96\n",
    "beta = beta_annual ** (life / S)\n",
    "    \n",
    "sigma = 3.0\n",
    "\n",
    "theta_h = 0.3\n",
    "theta_f = 0.45\n",
    "\n",
    "nvec_h = np.array([1.0] * working + [0.2] * (S - working))\n",
    "nvec_f = np.array([1.0] * working + [0.2] * (S - working))\n",
    "\n",
    "L_h = np.sum(nvec_h)\n",
    "L_f = np.sum(nvec_f)\n",
    "\n",
    "# Firm parameters\n",
    "alpha_h = 0.4\n",
    "alpha_f = 0.35\n",
    "\n",
    "Z_h = 1.1\n",
    "Z_f = 1.0\n",
    "\n",
    "gamma_h = 0.4\n",
    "gamma_f = 0.35\n",
    "\n",
    "delta_annual_h = 0.07\n",
    "delta_h = 1 - ((1 - delta_annual_h) ** (life / S))\n",
    "\n",
    "delta_annual_f = 0.05\n",
    "delta_f = 1 - ((1 - delta_annual_f) ** (life / S))\n",
    "\n",
    "# SS parameters\n",
    "SS_tol = 1e-13\n",
    "xi = 0.6"
   ]
  },
  {
   "cell_type": "code",
   "execution_count": 25,
   "metadata": {
    "collapsed": true
   },
   "outputs": [],
   "source": [
    "@stitch(lambda cvec, sigma: -sigma / (cvec ** (1 + sigma)), (0, None), 1e-10)\n",
    "def get_MUvec(cvec, sigma):\n",
    "    return 1 / (cvec ** sigma)\n",
    "\n",
    "@stitch(lambda x, gamma: gamma / (x ** (1 - gamma)), (0, None), 1e-10)\n",
    "def root(x, gamma):\n",
    "    return x ** gamma\n",
    "\n",
    "def aggregate(P_1, P_2, e, theta):\n",
    "    constant = ((1 - theta) ** (1 - theta)) * (theta ** theta)\n",
    "    return (1 / constant) * root(P_1, (1 - theta)) * root((e * P_2), theta)\n",
    "\n",
    "def get_K(P, r, L, Z, gamma, delta):\n",
    "    return root(gamma * Z * P * root(L, (1 - gamma)) / (r + delta), 1 / (1 - gamma))\n",
    "\n",
    "def get_w(P, K, L, Z, gamma):\n",
    "    return (1 - gamma) * Z * P * root(K / L, gamma)"
   ]
  },
  {
   "cell_type": "code",
   "execution_count": 26,
   "metadata": {
    "collapsed": true
   },
   "outputs": [],
   "source": [
    "def get_cvec(Pvec, rvec, wvec, bvec, S, nvec, b_init=0):\n",
    "    extended_bvec = np.zeros(S + 1)\n",
    "    if b_init:\n",
    "        extended_bvec[0] = b_init\n",
    "    extended_bvec[1:-1] = bvec\n",
    "    cvec = (nvec * wvec + (1 + rvec) * extended_bvec[:-1] - extended_bvec[1:]) / Pvec\n",
    "    return cvec\n",
    "\n",
    "def bvec_error(bvec, *args):\n",
    "    P, r, w, S, beta, sigma, nvec = args\n",
    "    \n",
    "    cvec = get_cvec(P, r, w, bvec, S, nvec)\n",
    "    \n",
    "    MUvec = get_MUvec(cvec, sigma)\n",
    "    \n",
    "    error = MUvec[:-1] - beta * (1 + r) * MUvec[1:]\n",
    "    \n",
    "    return error"
   ]
  },
  {
   "cell_type": "code",
   "execution_count": 27,
   "metadata": {
    "collapsed": true
   },
   "outputs": [],
   "source": [
    "def prices_error(prices, *args):\n",
    "    P_h, P_f, r_h, r_f = prices\n",
    "    cvec_h, cvec_f, bvec_h, bvec_f, alpha_h, alpha_f = args\n",
    "    \n",
    "    e = (1 + r_f) / (1 + r_h)\n",
    "    \n",
    "    r = aggregate(r_h, r_f, 1 / e, alpha_h)\n",
    "    r_star = aggregate(r_f, r_h, e, alpha_f)\n",
    "    \n",
    "    #???"
   ]
  },
  {
   "cell_type": "code",
   "execution_count": 28,
   "metadata": {
    "collapsed": true
   },
   "outputs": [],
   "source": [
    "def get_SS(HH_params, F_params, SS_params, guess):\n",
    "    S, beta, sigma, theta_h, theta_f, nvec_h, nvec_f, L_h, L_f = HH_params\n",
    "    Z_h, Z_f, gamma_h, gamma_f, delta_h, delta_f = F_params\n",
    "    SS_tol, xi = SS_params\n",
    "    P_h, P_f, r_h, r_f = guess\n",
    "    iteration = 1\n",
    "    \n",
    "    e = (1 + r_f) / (1 + r_h)\n",
    "    \n",
    "    P = aggregate(P_h, P_f, 1 / e, theta_h)\n",
    "    P_star = aggregate(P_f, P_h, e, theta_f)\n",
    "    \n",
    "    r = aggregate(r_h, r_f, 1 / e, alpha_h)\n",
    "    r_star = aggregate(r_f, r_h, e, alpha_f)\n",
    "    \n",
    "    K_h = get_K(P_h, r, L_h, Z_h, gamma_h, delta_h)\n",
    "    w_h = get_w(P_h, K_h, L_h, Z_h, gamma_h)\n",
    "    \n",
    "    K_f = get_K(P_f, r_star, L_f, Z_f, gamma_f, delta_f)\n",
    "    w_f = get_w(P_f, K_f, L_f, Z_f, gamma_f)\n",
    "    \n",
    "    # Solve for savings using Euler Equations\n",
    "    bvec_h_guess = 0.01 * np.ones(S - 1)\n",
    "    bvec_h_args = (P, r_h, w_h, S, beta, sigma, nvec_h)\n",
    "    bvec_h_result = opt.root(bvec_error, bvec_h_guess, args=bvec_h_args, tol=SS_tol)\n",
    "    if not bvec_h_result.success:\n",
    "        print(\"Root finder for bvec_h failed on iteration {}\".format(iteration))\n",
    "        print(bvec_h_result)\n",
    "    else:\n",
    "        bvec_h = bvec_h_result.x\n",
    "    \n",
    "    bvec_f_guess = 0.01 * np.ones(S - 1)\n",
    "    bvec_f_args = (P_star, r_f, w_f, S, beta, sigma, nvec_f)\n",
    "    bvec_f_result = opt.root(bvec_error, bvec_f_guess, args=bvec_f_args, tol=SS_tol)\n",
    "    if not bvec_f_result.success:\n",
    "        print(\"Root finder for bvec_f failed on iteration {}\".format(iteration))\n",
    "        print(bvec_f_result)\n",
    "    else:\n",
    "        bvec_f = bvec_f_result.x\n",
    "    \n",
    "    cvec_h = get_cvec(P, r_h, w_h, bvec_h, S, nvec_h)\n",
    "    cvec_f = get_cvec(P, r_f, w_f, bvec_f, S, nvec_f)\n",
    "    \n",
    "    plt.figure(figsize=(12, 9))\n",
    "    plt.plot(bvec_h)\n",
    "    plt.plot(bvec_f)\n",
    "    plt.show()"
   ]
  },
  {
   "cell_type": "code",
   "execution_count": 29,
   "metadata": {},
   "outputs": [
    {
     "data": {
      "image/png": "[encoded data removed]",
      "text/plain": [
       "<matplotlib.figure.Figure at 0x11d3fc198>"
      ]
     },
     "metadata": {},
     "output_type": "display_data"
    }
   ],
   "source": [
    "HH_params = (S, beta, sigma, theta_h, theta_f, nvec_h, nvec_f, L_h, L_f)\n",
    "F_params = (Z_h, Z_f, gamma_h, gamma_f, delta_h, delta_f)\n",
    "SS_params = (SS_tol, xi)\n",
    "guess = (1, 1, 0.05, 0.05)\n",
    "get_SS(HH_params, F_params, SS_params, guess)"
   ]
  },
  {
   "cell_type": "code",
   "execution_count": null,
   "metadata": {
    "collapsed": true
   },
   "outputs": [],
   "source": []
  },
  {
   "cell_type": "code",
   "execution_count": null,
   "metadata": {
    "collapsed": true
   },
   "outputs": [],
   "source": []
  },
  {
   "cell_type": "code",
   "execution_count": null,
   "metadata": {
    "collapsed": true
   },
   "outputs": [],
   "source": []
  },
  {
   "cell_type": "code",
   "execution_count": null,
   "metadata": {
    "collapsed": true
   },
   "outputs": [],
   "source": []
  },
  {
   "cell_type": "code",
   "execution_count": null,
   "metadata": {
    "collapsed": true
   },
   "outputs": [],
   "source": []
  },
  {
   "cell_type": "code",
   "execution_count": null,
   "metadata": {
    "collapsed": true
   },
   "outputs": [],
   "source": []
  }
 ],
 "metadata": {
  "kernelspec": {
   "display_name": "Python 3",
   "language": "python",
   "name": "python3"
  },
  "language_info": {
   "codemirror_mode": {
    "name": "ipython",
    "version": 3
   },
   "file_extension": ".py",
   "mimetype": "text/x-python",
   "name": "python",
   "nbconvert_exporter": "python",
   "pygments_lexer": "ipython3",
   "version": "3.6.1"
  }
 },
 "nbformat": 4,
 "nbformat_minor": 2
}
